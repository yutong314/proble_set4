{
 "cells": [
  {
   "cell_type": "code",
   "execution_count": null,
   "id": "4849373e-d87a-4434-923f-3e0edcbd761b",
   "metadata": {
    "tags": []
   },
   "outputs": [],
   "source": [
    "import requests\n",
    "import json\n",
    "response_API = requests.get('https://api.nobelprize.org/2.1/nobelPrizes')\n",
    "print(response_API.status_code)\n",
    "data = response_API.text\n",
    "parse_json = json.loads(data)\n",
    "parse_json\n"
   ]
  },
  {
   "cell_type": "code",
   "execution_count": null,
   "id": "e6975461-d5fa-4275-b998-11934f540cce",
   "metadata": {
    "tags": []
   },
   "outputs": [],
   "source": [
    "len(parse_json['nobelPrizes'])"
   ]
  },
  {
   "cell_type": "code",
   "execution_count": null,
   "id": "e76f0a34-1f1a-4fbe-9255-aa80ab395085",
   "metadata": {},
   "outputs": [],
   "source": [
    "awardYear = parse_json['nobelPrizes'][4]['awardYear']\n",
    "category = parse_json['nobelPrizes'][4]['category']['en']\n",
    "name = parse_json['nobelPrizes'][4]['laureates'][0]['fullName']\n",
    "print(\"awardYear:\", awardYear)\n",
    "print(\"category:\",category )\n",
    "print(\"name:\",name )"
   ]
  },
  {
   "cell_type": "code",
   "execution_count": null,
   "id": "2cab3926-6e3f-4b64-9535-1a4a95a7b733",
   "metadata": {},
   "outputs": [],
   "source": [
    "(parse_json['nobelPrizes'])"
   ]
  },
  {
   "cell_type": "code",
   "execution_count": null,
   "id": "cb31bccc-dda5-4c2a-9b27-a1c4e105b1ca",
   "metadata": {
    "tags": []
   },
   "outputs": [],
   "source": [
    "discipline = input('Enter a discipline:(Chemistry/Literature/Peace/Physice/Physiology or Medicine) ')\n",
    "for i in parse_json['nobelPrizes']:\n",
    "   #print i\n",
    "    awardYear = i['awardYear']\n",
    "    category = i['category']['en']\n",
    "    \n",
    "    try: \n",
    "        name = (i['laureates'][0]['fullName']['en'])\n",
    "    except: \n",
    "        continue\n",
    "    if category == discipline:\n",
    "        print(\"awardYear:\", awardYear)\n",
    "        print(\"category:\",category )\n",
    "        print(\"name:\",name )\n"
   ]
  }
 ],
 "metadata": {
  "kernelspec": {
   "display_name": "UFRC Python-3.10",
   "language": "python",
   "name": "python3-3.10-ufrc"
  },
  "language_info": {
   "codemirror_mode": {
    "name": "ipython",
    "version": 3
   },
   "file_extension": ".py",
   "mimetype": "text/x-python",
   "name": "python",
   "nbconvert_exporter": "python",
   "pygments_lexer": "ipython3",
   "version": "3.10.5"
  }
 },
 "nbformat": 4,
 "nbformat_minor": 5
}
